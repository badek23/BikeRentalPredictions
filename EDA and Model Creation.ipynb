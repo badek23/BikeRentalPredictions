{
 "cells": [
  {
   "cell_type": "markdown",
   "id": "b94a9a63-5405-4776-9796-9c190b503e2f",
   "metadata": {},
   "source": [
    "# **Group Assignment** - Bike Sharing"
   ]
  },
  {
   "cell_type": "markdown",
   "id": "d85ed5e5-6e8e-4848-800d-d5c9c4675fcd",
   "metadata": {},
   "source": [
    "- `instant`: record index\n",
    "- `dteday` : date\n",
    "- `season` : season (1:springer, 2:summer, 3:fall, 4:winter)\n",
    "- `yr` : year (0: 2011, 1:2012)\n",
    "- `mnth` : month ( 1 to 12)\n",
    "- `hr` : hour (0 to 23)\n",
    "- `holiday` : weather day is holiday or not (extracted from http://dchr.dc.gov/page/holiday-schedule)\n",
    "- `weekday` : day of the week\n",
    "- `workingday` : if day is neither weekend nor holiday is 1, otherwise is 0.\n",
    "+ `weathersit` : \n",
    "\t- 1: Clear, Few clouds, Partly cloudy, Partly cloudy\n",
    "\t- 2: Mist + Cloudy, Mist + Broken clouds, Mist + Few clouds, Mist\n",
    "\t- 3: Light Snow, Light Rain + Thunderstorm + Scattered clouds, Light Rain + Scattered clouds\n",
    "\t- 4: Heavy Rain + Ice Pallets + Thunderstorm + Mist, Snow + Fog\n",
    "- `temp` : Normalized temperature in Celsius. The values are divided to 41 (max)\n",
    "- `atemp`: Normalized feeling temperature in Celsius. The values are divided to 50 (max)\n",
    "- `hum`: Normalized humidity. The values are divided to 100 (max)\n",
    "- `windspeed`: Normalized wind speed. The values are divided to 67 (max)\n",
    "- `casual`: count of casual users\n",
    "- `registered`: count of registered users\n",
    "- `cnt`: count of total rental bikes including both casual and registered"
   ]
  },
  {
   "cell_type": "markdown",
   "id": "98fd15ee-3dab-4626-a3fe-f3dea434b71c",
   "metadata": {},
   "source": [
    "## PART I: Exploratory Data Analysis"
   ]
  },
  {
   "cell_type": "markdown",
   "id": "4bbab68f-8197-4ea0-a8cd-56773e5772a7",
   "metadata": {},
   "source": [
    "## PART II: Prediction Model"
   ]
  },
  {
   "cell_type": "code",
   "execution_count": 45,
   "id": "72ea049a",
   "metadata": {},
   "outputs": [],
   "source": [
    "import pandas as pd\n",
    "import numpy as np\n",
    "from sklearn.model_selection import train_test_split, GridSearchCV, cross_val_score\n",
    "from sklearn.ensemble import RandomForestRegressor\n",
    "import joblib\n",
    "import matplotlib.pyplot as plt"
   ]
  },
  {
   "cell_type": "code",
   "execution_count": 46,
   "id": "0e28f056-2c4d-4281-b6da-db24627d46e8",
   "metadata": {},
   "outputs": [],
   "source": [
    "data = pd.read_csv(\"bike-sharing_hourly.csv\")"
   ]
  },
  {
   "cell_type": "code",
   "execution_count": 44,
   "id": "1ad0c429",
   "metadata": {},
   "outputs": [
    {
     "data": {
      "text/plain": [
       "yr  mnth  day  hr\n",
       "0   1     01   0      16.0\n",
       "               1      40.0\n",
       "               2      32.0\n",
       "               3      13.0\n",
       "               4       1.0\n",
       "                     ...  \n",
       "1   12    31   19    119.0\n",
       "               20     89.0\n",
       "               21     90.0\n",
       "               22     61.0\n",
       "               23     49.0\n",
       "Name: cnt, Length: 17379, dtype: float64"
      ]
     },
     "execution_count": 44,
     "metadata": {},
     "output_type": "execute_result"
    }
   ],
   "source": [
    "weather = data.groupby([\"yr\",\"mnth\",\"day\",\"hr\"]).agg({\n",
    "        'cnt':'mean',\n",
    "        'weathersit': 'mean'\n",
    "        })\n",
    "\n",
    "weather.groupby([\"yr\",\"mnth\",\"day\",\"hr\"])[\"cnt\"].sum()"
   ]
  },
  {
   "cell_type": "code",
   "execution_count": 85,
   "id": "91a5fc9e",
   "metadata": {},
   "outputs": [
    {
     "data": {
      "text/html": [
       "<div>\n",
       "<style scoped>\n",
       "    .dataframe tbody tr th:only-of-type {\n",
       "        vertical-align: middle;\n",
       "    }\n",
       "\n",
       "    .dataframe tbody tr th {\n",
       "        vertical-align: top;\n",
       "    }\n",
       "\n",
       "    .dataframe thead th {\n",
       "        text-align: right;\n",
       "    }\n",
       "</style>\n",
       "<table border=\"1\" class=\"dataframe\">\n",
       "  <thead>\n",
       "    <tr style=\"text-align: right;\">\n",
       "      <th></th>\n",
       "      <th>instant</th>\n",
       "      <th>dteday</th>\n",
       "      <th>season</th>\n",
       "      <th>yr</th>\n",
       "      <th>mnth</th>\n",
       "      <th>hr</th>\n",
       "      <th>holiday</th>\n",
       "      <th>weekday</th>\n",
       "      <th>workingday</th>\n",
       "      <th>weathersit</th>\n",
       "      <th>temp</th>\n",
       "      <th>atemp</th>\n",
       "      <th>hum</th>\n",
       "      <th>windspeed</th>\n",
       "      <th>casual</th>\n",
       "      <th>registered</th>\n",
       "      <th>cnt</th>\n",
       "    </tr>\n",
       "  </thead>\n",
       "  <tbody>\n",
       "    <tr>\n",
       "      <th>0</th>\n",
       "      <td>1</td>\n",
       "      <td>2011-01-01</td>\n",
       "      <td>1</td>\n",
       "      <td>0</td>\n",
       "      <td>1</td>\n",
       "      <td>0</td>\n",
       "      <td>0</td>\n",
       "      <td>6</td>\n",
       "      <td>0</td>\n",
       "      <td>1</td>\n",
       "      <td>0.24</td>\n",
       "      <td>0.2879</td>\n",
       "      <td>0.81</td>\n",
       "      <td>0.0</td>\n",
       "      <td>3</td>\n",
       "      <td>13</td>\n",
       "      <td>16</td>\n",
       "    </tr>\n",
       "    <tr>\n",
       "      <th>1</th>\n",
       "      <td>2</td>\n",
       "      <td>2011-01-01</td>\n",
       "      <td>1</td>\n",
       "      <td>0</td>\n",
       "      <td>1</td>\n",
       "      <td>1</td>\n",
       "      <td>0</td>\n",
       "      <td>6</td>\n",
       "      <td>0</td>\n",
       "      <td>1</td>\n",
       "      <td>0.22</td>\n",
       "      <td>0.2727</td>\n",
       "      <td>0.80</td>\n",
       "      <td>0.0</td>\n",
       "      <td>8</td>\n",
       "      <td>32</td>\n",
       "      <td>40</td>\n",
       "    </tr>\n",
       "    <tr>\n",
       "      <th>2</th>\n",
       "      <td>3</td>\n",
       "      <td>2011-01-01</td>\n",
       "      <td>1</td>\n",
       "      <td>0</td>\n",
       "      <td>1</td>\n",
       "      <td>2</td>\n",
       "      <td>0</td>\n",
       "      <td>6</td>\n",
       "      <td>0</td>\n",
       "      <td>1</td>\n",
       "      <td>0.22</td>\n",
       "      <td>0.2727</td>\n",
       "      <td>0.80</td>\n",
       "      <td>0.0</td>\n",
       "      <td>5</td>\n",
       "      <td>27</td>\n",
       "      <td>32</td>\n",
       "    </tr>\n",
       "    <tr>\n",
       "      <th>3</th>\n",
       "      <td>4</td>\n",
       "      <td>2011-01-01</td>\n",
       "      <td>1</td>\n",
       "      <td>0</td>\n",
       "      <td>1</td>\n",
       "      <td>3</td>\n",
       "      <td>0</td>\n",
       "      <td>6</td>\n",
       "      <td>0</td>\n",
       "      <td>1</td>\n",
       "      <td>0.24</td>\n",
       "      <td>0.2879</td>\n",
       "      <td>0.75</td>\n",
       "      <td>0.0</td>\n",
       "      <td>3</td>\n",
       "      <td>10</td>\n",
       "      <td>13</td>\n",
       "    </tr>\n",
       "    <tr>\n",
       "      <th>4</th>\n",
       "      <td>5</td>\n",
       "      <td>2011-01-01</td>\n",
       "      <td>1</td>\n",
       "      <td>0</td>\n",
       "      <td>1</td>\n",
       "      <td>4</td>\n",
       "      <td>0</td>\n",
       "      <td>6</td>\n",
       "      <td>0</td>\n",
       "      <td>1</td>\n",
       "      <td>0.24</td>\n",
       "      <td>0.2879</td>\n",
       "      <td>0.75</td>\n",
       "      <td>0.0</td>\n",
       "      <td>0</td>\n",
       "      <td>1</td>\n",
       "      <td>1</td>\n",
       "    </tr>\n",
       "  </tbody>\n",
       "</table>\n",
       "</div>"
      ],
      "text/plain": [
       "   instant      dteday  season  yr  mnth  hr  holiday  weekday  workingday  \\\n",
       "0        1  2011-01-01       1   0     1   0        0        6           0   \n",
       "1        2  2011-01-01       1   0     1   1        0        6           0   \n",
       "2        3  2011-01-01       1   0     1   2        0        6           0   \n",
       "3        4  2011-01-01       1   0     1   3        0        6           0   \n",
       "4        5  2011-01-01       1   0     1   4        0        6           0   \n",
       "\n",
       "   weathersit  temp   atemp   hum  windspeed  casual  registered  cnt  \n",
       "0           1  0.24  0.2879  0.81        0.0       3          13   16  \n",
       "1           1  0.22  0.2727  0.80        0.0       8          32   40  \n",
       "2           1  0.22  0.2727  0.80        0.0       5          27   32  \n",
       "3           1  0.24  0.2879  0.75        0.0       3          10   13  \n",
       "4           1  0.24  0.2879  0.75        0.0       0           1    1  "
      ]
     },
     "execution_count": 85,
     "metadata": {},
     "output_type": "execute_result"
    }
   ],
   "source": [
    "data.head()"
   ]
  },
  {
   "cell_type": "code",
   "execution_count": 47,
   "id": "bc685bd0",
   "metadata": {},
   "outputs": [],
   "source": [
    "data['day'] = data['dteday'].apply(lambda x: str(x)[-2:])"
   ]
  },
  {
   "cell_type": "code",
   "execution_count": 49,
   "id": "555a28d3",
   "metadata": {},
   "outputs": [],
   "source": [
    "data = data.drop([\"dteday\",\"casual\",\"registered\",\"instant\",\"yr\",\"temp\"],axis=1)"
   ]
  },
  {
   "cell_type": "code",
   "execution_count": 50,
   "id": "388383d3",
   "metadata": {},
   "outputs": [],
   "source": [
    "data.to_csv('cleaned_data.csv', index=False)"
   ]
  },
  {
   "cell_type": "code",
   "execution_count": 177,
   "id": "2ac0ac48",
   "metadata": {},
   "outputs": [
    {
     "name": "stdout",
     "output_type": "stream",
     "text": [
      "<class 'pandas.core.frame.DataFrame'>\n",
      "RangeIndex: 17379 entries, 0 to 17378\n",
      "Data columns (total 13 columns):\n",
      " #   Column      Non-Null Count  Dtype  \n",
      "---  ------      --------------  -----  \n",
      " 0   season      17379 non-null  int64  \n",
      " 1   mnth        17379 non-null  int64  \n",
      " 2   hr          17379 non-null  int64  \n",
      " 3   holiday     17379 non-null  int64  \n",
      " 4   weekday     17379 non-null  int64  \n",
      " 5   workingday  17379 non-null  int64  \n",
      " 6   weathersit  17379 non-null  int64  \n",
      " 7   temp        17379 non-null  float64\n",
      " 8   atemp       17379 non-null  float64\n",
      " 9   hum         17379 non-null  float64\n",
      " 10  windspeed   17379 non-null  float64\n",
      " 11  cnt         17379 non-null  int64  \n",
      " 12  day         17379 non-null  object \n",
      "dtypes: float64(4), int64(8), object(1)\n",
      "memory usage: 1.7+ MB\n"
     ]
    }
   ],
   "source": [
    "data.info()"
   ]
  },
  {
   "cell_type": "code",
   "execution_count": 51,
   "id": "74a9878e",
   "metadata": {},
   "outputs": [],
   "source": [
    "# Split data into features and target\n",
    "X = data.drop([\"cnt\"], axis=1).values \n",
    "y = data[\"cnt\"].values"
   ]
  },
  {
   "cell_type": "code",
   "execution_count": 52,
   "id": "94e17c19",
   "metadata": {},
   "outputs": [],
   "source": [
    "# Split into train and test datasets\n",
    "X_train, X_test, y_train, y_test = train_test_split(X, y, random_state=42, test_size=0.3)"
   ]
  },
  {
   "cell_type": "code",
   "execution_count": 127,
   "id": "c35879bd",
   "metadata": {},
   "outputs": [],
   "source": [
    "# Comment on why chose Random Forest Regressor"
   ]
  },
  {
   "cell_type": "code",
   "execution_count": 53,
   "id": "5c562b73",
   "metadata": {},
   "outputs": [
    {
     "data": {
      "text/html": [
       "<style>#sk-container-id-1 {color: black;}#sk-container-id-1 pre{padding: 0;}#sk-container-id-1 div.sk-toggleable {background-color: white;}#sk-container-id-1 label.sk-toggleable__label {cursor: pointer;display: block;width: 100%;margin-bottom: 0;padding: 0.3em;box-sizing: border-box;text-align: center;}#sk-container-id-1 label.sk-toggleable__label-arrow:before {content: \"▸\";float: left;margin-right: 0.25em;color: #696969;}#sk-container-id-1 label.sk-toggleable__label-arrow:hover:before {color: black;}#sk-container-id-1 div.sk-estimator:hover label.sk-toggleable__label-arrow:before {color: black;}#sk-container-id-1 div.sk-toggleable__content {max-height: 0;max-width: 0;overflow: hidden;text-align: left;background-color: #f0f8ff;}#sk-container-id-1 div.sk-toggleable__content pre {margin: 0.2em;color: black;border-radius: 0.25em;background-color: #f0f8ff;}#sk-container-id-1 input.sk-toggleable__control:checked~div.sk-toggleable__content {max-height: 200px;max-width: 100%;overflow: auto;}#sk-container-id-1 input.sk-toggleable__control:checked~label.sk-toggleable__label-arrow:before {content: \"▾\";}#sk-container-id-1 div.sk-estimator input.sk-toggleable__control:checked~label.sk-toggleable__label {background-color: #d4ebff;}#sk-container-id-1 div.sk-label input.sk-toggleable__control:checked~label.sk-toggleable__label {background-color: #d4ebff;}#sk-container-id-1 input.sk-hidden--visually {border: 0;clip: rect(1px 1px 1px 1px);clip: rect(1px, 1px, 1px, 1px);height: 1px;margin: -1px;overflow: hidden;padding: 0;position: absolute;width: 1px;}#sk-container-id-1 div.sk-estimator {font-family: monospace;background-color: #f0f8ff;border: 1px dotted black;border-radius: 0.25em;box-sizing: border-box;margin-bottom: 0.5em;}#sk-container-id-1 div.sk-estimator:hover {background-color: #d4ebff;}#sk-container-id-1 div.sk-parallel-item::after {content: \"\";width: 100%;border-bottom: 1px solid gray;flex-grow: 1;}#sk-container-id-1 div.sk-label:hover label.sk-toggleable__label {background-color: #d4ebff;}#sk-container-id-1 div.sk-serial::before {content: \"\";position: absolute;border-left: 1px solid gray;box-sizing: border-box;top: 0;bottom: 0;left: 50%;z-index: 0;}#sk-container-id-1 div.sk-serial {display: flex;flex-direction: column;align-items: center;background-color: white;padding-right: 0.2em;padding-left: 0.2em;position: relative;}#sk-container-id-1 div.sk-item {position: relative;z-index: 1;}#sk-container-id-1 div.sk-parallel {display: flex;align-items: stretch;justify-content: center;background-color: white;position: relative;}#sk-container-id-1 div.sk-item::before, #sk-container-id-1 div.sk-parallel-item::before {content: \"\";position: absolute;border-left: 1px solid gray;box-sizing: border-box;top: 0;bottom: 0;left: 50%;z-index: -1;}#sk-container-id-1 div.sk-parallel-item {display: flex;flex-direction: column;z-index: 1;position: relative;background-color: white;}#sk-container-id-1 div.sk-parallel-item:first-child::after {align-self: flex-end;width: 50%;}#sk-container-id-1 div.sk-parallel-item:last-child::after {align-self: flex-start;width: 50%;}#sk-container-id-1 div.sk-parallel-item:only-child::after {width: 0;}#sk-container-id-1 div.sk-dashed-wrapped {border: 1px dashed gray;margin: 0 0.4em 0.5em 0.4em;box-sizing: border-box;padding-bottom: 0.4em;background-color: white;}#sk-container-id-1 div.sk-label label {font-family: monospace;font-weight: bold;display: inline-block;line-height: 1.2em;}#sk-container-id-1 div.sk-label-container {text-align: center;}#sk-container-id-1 div.sk-container {/* jupyter's `normalize.less` sets `[hidden] { display: none; }` but bootstrap.min.css set `[hidden] { display: none !important; }` so we also need the `!important` here to be able to override the default hidden behavior on the sphinx rendered scikit-learn.org. See: https://github.com/scikit-learn/scikit-learn/issues/21755 */display: inline-block !important;position: relative;}#sk-container-id-1 div.sk-text-repr-fallback {display: none;}</style><div id=\"sk-container-id-1\" class=\"sk-top-container\"><div class=\"sk-text-repr-fallback\"><pre>RandomForestRegressor(max_features=&#x27;sqrt&#x27;, random_state=42)</pre><b>In a Jupyter environment, please rerun this cell to show the HTML representation or trust the notebook. <br />On GitHub, the HTML representation is unable to render, please try loading this page with nbviewer.org.</b></div><div class=\"sk-container\" hidden><div class=\"sk-item\"><div class=\"sk-estimator sk-toggleable\"><input class=\"sk-toggleable__control sk-hidden--visually\" id=\"sk-estimator-id-1\" type=\"checkbox\" checked><label for=\"sk-estimator-id-1\" class=\"sk-toggleable__label sk-toggleable__label-arrow\">RandomForestRegressor</label><div class=\"sk-toggleable__content\"><pre>RandomForestRegressor(max_features=&#x27;sqrt&#x27;, random_state=42)</pre></div></div></div></div></div>"
      ],
      "text/plain": [
       "RandomForestRegressor(max_features='sqrt', random_state=42)"
      ]
     },
     "execution_count": 53,
     "metadata": {},
     "output_type": "execute_result"
    }
   ],
   "source": [
    "# Instatiate and fit random forest regressor\n",
    "random_forest = RandomForestRegressor(random_state=42, max_features='sqrt')  \n",
    "random_forest.fit(X_train, y_train)"
   ]
  },
  {
   "cell_type": "code",
   "execution_count": 128,
   "id": "468d1806",
   "metadata": {},
   "outputs": [],
   "source": [
    "# Comment on hyperparameter tuning and on why this evaluation metric was chosen"
   ]
  },
  {
   "cell_type": "code",
   "execution_count": 54,
   "id": "7a6953cc",
   "metadata": {},
   "outputs": [
    {
     "name": "stdout",
     "output_type": "stream",
     "text": [
      "Fitting 5 folds for each of 7 candidates, totalling 35 fits\n"
     ]
    }
   ],
   "source": [
    "# GridSearchCV for hyperparameter tuning\n",
    "param_grid = {'max_depth': range(15,22)}\n",
    "\n",
    "crossval_rf = GridSearchCV(random_forest, param_grid, scoring='neg_root_mean_squared_error', cv=5 , n_jobs=1, verbose=1)\n",
    "\n",
    "crossval_rf.fit(X_train,y_train);"
   ]
  },
  {
   "cell_type": "code",
   "execution_count": 57,
   "id": "012b7660",
   "metadata": {},
   "outputs": [
    {
     "name": "stdout",
     "output_type": "stream",
     "text": [
      "Best parameters set found on train set:\n",
      "\n",
      "{'max_depth': 21}\n",
      "\n",
      "Grid scores on train set:\n",
      "\n",
      "Accuracy = -75.999 (+/5.025) for {'max_depth': 15}\n",
      "Accuracy = -74.959 (+/4.423) for {'max_depth': 16}\n",
      "Accuracy = -73.490 (+/3.937) for {'max_depth': 17}\n",
      "Accuracy = -73.641 (+/3.876) for {'max_depth': 18}\n",
      "Accuracy = -73.141 (+/3.031) for {'max_depth': 19}\n",
      "Accuracy = -72.869 (+/4.800) for {'max_depth': 20}\n",
      "Accuracy = -72.506 (+/4.342) for {'max_depth': 21}\n"
     ]
    }
   ],
   "source": [
    "print(\"Best parameters set found on train set:\")\n",
    "print()\n",
    "print(crossval_rf.best_params_)\n",
    "print()\n",
    "print(\"Grid scores on train set:\")\n",
    "print()\n",
    "means = crossval_rf.cv_results_['mean_test_score']\n",
    "stds = crossval_rf.cv_results_['std_test_score']\n",
    "for mean, std, params in zip(means, stds, crossval_rf.cv_results_['params']):\n",
    "    print(\"Accuracy = %0.3f (+/%0.03f) for %r\" % (mean, std * 2, params))"
   ]
  },
  {
   "cell_type": "code",
   "execution_count": 58,
   "id": "67e6f6e9",
   "metadata": {},
   "outputs": [
    {
     "data": {
      "image/png": "[encoded data removed]",
      "text/plain": [
       "<Figure size 1000x1000 with 1 Axes>"
      ]
     },
     "metadata": {},
     "output_type": "display_data"
    }
   ],
   "source": [
    "# Visualize the different accuracies for different depths of the decision tree\n",
    "plt.figure(figsize=(10,10))\n",
    "plt.errorbar(range(13,20,1), [m for m in means], yerr=stds, fmt='-o')\n",
    "plt.title('NRMSE for Different Depths', fontsize=20)\n",
    "plt.xlabel(\"Depth\", fontsize=16)\n",
    "plt.ylabel(\"NRMSE\", fontsize=16)\n",
    "plt.show()"
   ]
  },
  {
   "cell_type": "code",
   "execution_count": 60,
   "id": "b5a84607",
   "metadata": {},
   "outputs": [
    {
     "data": {
      "text/plain": [
       "['Model.joblib']"
      ]
     },
     "execution_count": 60,
     "metadata": {},
     "output_type": "execute_result"
    }
   ],
   "source": [
    "# Save model for future use\n",
    "best_est = crossval_rf.best_estimator_\n",
    "\n",
    "joblib.dump(best_est,\"Model.joblib\")"
   ]
  },
  {
   "cell_type": "code",
   "execution_count": 61,
   "id": "2bc8bd9c",
   "metadata": {},
   "outputs": [],
   "source": [
    "model = joblib.load(\"Model.joblib\")"
   ]
  },
  {
   "cell_type": "code",
   "execution_count": 62,
   "id": "71fc610a",
   "metadata": {},
   "outputs": [
    {
     "name": "stdout",
     "output_type": "stream",
     "text": [
      "Negative RMSE: Train = -72.5061\n",
      "Negative RMSE: Test = -81.9787\n"
     ]
    }
   ],
   "source": [
    "# NRMSE for test set is slightly worse than for train set\n",
    "print(\"Negative RMSE: Train = {0:.4f}\".format(np.mean(cross_val_score(model, X_train, y_train, scoring='neg_root_mean_squared_error'))))\n",
    "print(\"Negative RMSE: Test = {0:.4f}\".format(np.mean(cross_val_score(model, X_test, y_test, scoring='neg_root_mean_squared_error'))))"
   ]
  },
  {
   "cell_type": "code",
   "execution_count": 64,
   "id": "5068786b",
   "metadata": {},
   "outputs": [],
   "source": [
    "drop_data = data.drop([\"cnt\"],axis=1)"
   ]
  },
  {
   "cell_type": "code",
   "execution_count": 65,
   "id": "675b492a",
   "metadata": {},
   "outputs": [
    {
     "data": {
      "image/png": "[encoded data removed]",
      "text/plain": [
       "<Figure size 1000x1000 with 1 Axes>"
      ]
     },
     "metadata": {},
     "output_type": "display_data"
    }
   ],
   "source": [
    "# Plot feature importances for the random forest\n",
    "plt.figure(figsize=(10,10))\n",
    "plt.bar(drop_data.columns, model.feature_importances_)\n",
    "plt.xticks(rotation=60)\n",
    "plt.title('Feature Importance', fontsize=16)\n",
    "plt.show()"
   ]
  },
  {
   "cell_type": "code",
   "execution_count": 126,
   "id": "2496eab8",
   "metadata": {},
   "outputs": [],
   "source": [
    "# Comment what the feature importance tells us about how to predict !"
   ]
  },
  {
   "cell_type": "markdown",
   "id": "e69e4af7-0cc1-4488-83ad-33662479edad",
   "metadata": {},
   "source": [
    "## PART III: Streamlit dashboard"
   ]
  },
  {
   "cell_type": "code",
   "execution_count": null,
   "id": "08ea8b51-cd49-40d5-8946-f567aaf68de2",
   "metadata": {},
   "outputs": [],
   "source": [
    "### This part goes in a separate script ###"
   ]
  },
  {
   "cell_type": "code",
   "execution_count": null,
   "id": "d28d5edc",
   "metadata": {},
   "outputs": [],
   "source": [
    "# Make temperature on x by demand on y\n",
    "# Demand over the day by weekdays and by weekends"
   ]
  }
 ],
 "metadata": {
  "kernelspec": {
   "display_name": "pda-ie",
   "language": "python",
   "name": "python3"
  },
  "language_info": {
   "codemirror_mode": {
    "name": "ipython",
    "version": 3
   },
   "file_extension": ".py",
   "mimetype": "text/x-python",
   "name": "python",
   "nbconvert_exporter": "python",
   "pygments_lexer": "ipython3",
   "version": "3.11.5"
  }
 },
 "nbformat": 4,
 "nbformat_minor": 5
}
